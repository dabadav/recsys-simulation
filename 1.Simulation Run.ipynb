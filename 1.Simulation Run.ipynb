{
 "cells": [
  {
   "cell_type": "code",
   "execution_count": 1,
   "id": "14d10e7e-95b1-4bf3-9c67-28f60943024e",
   "metadata": {},
   "outputs": [],
   "source": [
    "from simulation import RecSys, Patient, Protocol, Session\n",
    "import time"
   ]
  },
  {
   "cell_type": "code",
   "execution_count": 2,
   "id": "15976ce1-b2c2-4894-a1dc-c767120fcbe4",
   "metadata": {},
   "outputs": [],
   "source": [
    "# 1. Define protocols\n",
    "protocols = [\n",
    "    Protocol(id=1, name=\"Protocol A\", dms=[\"Speed\"], ar=False),\n",
    "    Protocol(id=2, name=\"Protocol B\", dms=[\"Speed\", \"Size\"], ar=True),\n",
    "    Protocol(id=3, name=\"Protocol B\", dms=[\"Length\", \"Size\", \"Speed\"], ar=True),\n",
    "]\n",
    "\n",
    "# 2. Define ground truth for DMs\n",
    "ground_truth = {\n",
    "    \"1\": [1.0],  # Max DM values for Protocol A\n",
    "    \"2\": [0.8, 0.9],  # Max DM values for Protocol B\n",
    "    \"2\": [0.8, 0.9, 0.9],  # Max DM values for Protocol B\n",
    "}\n",
    "\n",
    "# 3. Initialize a patient\n",
    "patient = Patient(dm_ground_truth=ground_truth)\n",
    "\n",
    "# 4. Simulate sessions\n",
    "# First session for Protocol A\n",
    "session_a1 = Session(session_id=1, protocol_id=1, dms=[0.5], timestamp=time.time(), prescribed=True)\n",
    "patient.update(session_a1)\n",
    "# First session for Protocol B\n",
    "session_b1 = Session(session_id=2, protocol_id=2, dms=[0.2, 0.3], timestamp=time.time(), prescribed=True)\n",
    "patient.update(session_b1)\n",
    "# First session for Protocol C\n",
    "session_c1 = Session(session_id=3, protocol_id=3, dms=[0.2, 0.3, 0.1], timestamp=time.time(), prescribed=True)\n",
    "patient.update(session_c1)\n",
    "\n",
    "# Second session for Protocol A\n",
    "session_a2 = Session(session_id=4, protocol_id=1, dms=[0.7], timestamp=time.time(), prescribed=True)\n",
    "patient.update(session_a2)\n",
    "# Second session for Protocol B\n",
    "session_b2 = Session(session_id=5, protocol_id=2, dms=[0.3, 0.2], timestamp=time.time(), prescribed=True)\n",
    "patient.update(session_b2)\n",
    "# Second session for Protocol C\n",
    "session_c2 = Session(session_id=6, protocol_id=3, dms=[0.4, 0.5, 0.1], timestamp=time.time(), prescribed=True)\n",
    "patient.update(session_c2)\n",
    "\n",
    "\n",
    "# 5. Create a recommender system\n",
    "recsys = RecSys(protocols=protocols)\n",
    "\n",
    "# 6. Generate recommendations\n",
    "params = {\n",
    "    \"strategy\": \"weighted_random_sampling\",\n",
    "    \"timestamp\": time.time(),\n",
    "}\n",
    "\n",
    "recsys.recommend(patient, n=3, params=params)"
   ]
  }
 ],
 "metadata": {
  "kernelspec": {
   "display_name": "Python [conda env:kg_embeddings] *",
   "language": "python",
   "name": "conda-env-kg_embeddings-py"
  },
  "language_info": {
   "codemirror_mode": {
    "name": "ipython",
    "version": 3
   },
   "file_extension": ".py",
   "mimetype": "text/x-python",
   "name": "python",
   "nbconvert_exporter": "python",
   "pygments_lexer": "ipython3",
   "version": "3.11.9"
  }
 },
 "nbformat": 4,
 "nbformat_minor": 5
}
